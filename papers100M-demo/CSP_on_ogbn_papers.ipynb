{
 "cells": [
  {
   "cell_type": "markdown",
   "id": "86000883-571d-4a64-a577-095289488721",
   "metadata": {},
   "source": [
    "# CSP Application on OGBN-Papers100M Dataset  \n",
    "\n",
    "## Introduction  \n",
    "This notebook demonstrates the application of the CSP algorithm on the OGBN-Papers100M dataset. We start by understanding the structure of the data using a toy dataset with 5 nodes and 4 hyperedges. Precomputed small tables are utilized for the demonstration.  \n",
    "\n",
    "### Precomputed Tables  \n",
    "1. **`df_graph`**: Represents the hypergraph structure as a Polars DataFrame.  \n",
    "2. **`label_df`**: Includes details such as split (train/test) and label.  \n",
    "3. **`node_degree` and `edge_degree`**: Calculated from the hypergraph, these are used to compute mean scores, as explained later."
   ]
  },
  {
   "cell_type": "code",
   "execution_count": null,
   "id": "1d574ab2-8233-488d-aeb7-842ed37b9b4f",
   "metadata": {},
   "outputs": [],
   "source": [
    "import polars as pl\n",
    "\n",
    "df_graph = pl.DataFrame({ \n",
    "    'nodeId': [0, 0, 1, 1, 2, 2, 3, 3, 4],\n",
    "    'edgeId': [0, 2, 0, 1, 1, 3, 2, 3, 3]\n",
    "}, schema={'nodeId': pl.UInt32, 'edgeId': pl.UInt32})  \n",
    "\n",
    "label_df = pl.DataFrame({\n",
    "    'nodeId': [0, 1, 2, 3, 4],\n",
    "    'label': [0, 1, 0, 0, 1],\n",
    "    'split': ['train', 'train', 'test', 'test', 'test']\n",
    "}, schema={'nodeId': pl.UInt32, 'label': pl.Float32, 'split': pl.String})\n",
    "\n",
    "edge_degree = df_graph.group_by('edgeId').agg(pl.len().alias('edge_degree'))\n",
    "node_degree = df_graph.group_by('nodeId').agg(pl.len().alias('node_degree'))"
   ]
  },
  {
   "cell_type": "code",
   "execution_count": 2,
   "id": "defad934-0a22-410a-b491-8ed53c8ffd8e",
   "metadata": {},
   "outputs": [],
   "source": [
    "import polars as pl"
   ]
  },
  {
   "cell_type": "markdown",
   "id": "d4dd9078-d337-4f75-b99c-3221d91c4497",
   "metadata": {},
   "source": [
    "First, let us get familiar with structrure of data we are using. Consider the toy dataset of 5 nodes and 4 hyperedges for demonstration. We have precomputed the following tables:\n",
    " * df_graph is represetntation of hypergraph in dataframe\n",
    " * information about nodes such as split and label\n",
    " * node_degree and edge_degree are calculated from the hypergraph. They are used for calculation of mean of scores as it will be shown later"
   ]
  },
  {
   "cell_type": "code",
   "execution_count": 4,
   "id": "cc21d1b6-3dc3-407b-bd7e-00daa780b32f",
   "metadata": {},
   "outputs": [],
   "source": [
    "\n",
    "df_graph = pl.DataFrame({ \n",
    "                  'nodeId': [0, 0, 1, 1, 2, 2, 3, 3, 4],\n",
    "                  'edgeId': [0, 2, 0, 1, 1, 3, 2, 3, 3]\n",
    "}, schema={'nodeId': pl.UInt32, 'edgeId': pl.UInt32})  \n",
    "label_df = pl.DataFrame({\n",
    "                        'nodeId': [0, 1, 2, 3, 4],\n",
    "                        'label': [0, 1, 0, 0, 1],\n",
    "                        'split':['train', 'train', 'test', 'test', 'test']\n",
    "}, schema={'nodeId': pl.UInt32, 'label': pl.Float32, 'split':pl.String})\n",
    "edge_degree = df_graph.group_by('edgeId').agg(pl.len().alias('edge_degree'))\n",
    "node_degree = df_graph.group_by('nodeId').agg(pl.len().alias('node_degree'))"
   ]
  },
  {
   "cell_type": "markdown",
   "id": "bbbf5fa4-0fb3-45fc-9d75-701d01626482",
   "metadata": {},
   "source": [
    "The CSP implementation consists in the following steps that propagates the labels from training set through the hypergraph and accuracy on all data spilts is calculated."
   ]
  },
  {
   "cell_type": "code",
   "execution_count": 8,
   "id": "387e78cb-034e-4ddf-8e59-7d0b10ffc6fc",
   "metadata": {},
   "outputs": [
    {
     "data": {
      "text/html": [
       "<div><style>\n",
       ".dataframe > thead > tr,\n",
       ".dataframe > tbody > tr {\n",
       "  text-align: right;\n",
       "  white-space: pre-wrap;\n",
       "}\n",
       "</style>\n",
       "<small>shape: (2, 2)</small><table border=\"1\" class=\"dataframe\"><thead><tr><th>split</th><th>accuracy</th></tr><tr><td>str</td><td>f32</td></tr></thead><tbody><tr><td>&quot;train&quot;</td><td>1.0</td></tr><tr><td>&quot;test&quot;</td><td>0.333333</td></tr></tbody></table></div>"
      ],
      "text/plain": [
       "shape: (2, 2)\n",
       "┌───────┬──────────┐\n",
       "│ split ┆ accuracy │\n",
       "│ ---   ┆ ---      │\n",
       "│ str   ┆ f32      │\n",
       "╞═══════╪══════════╡\n",
       "│ train ┆ 1.0      │\n",
       "│ test  ┆ 0.333333 │\n",
       "└───────┴──────────┘"
      ]
     },
     "metadata": {},
     "output_type": "display_data"
    }
   ],
   "source": [
    "train_label = label_df.filter(pl.col('split') == 'train').select('nodeId', pl.lit(1).cast(pl.Float32).alias('score'), pl.col('label').alias('target'))\n",
    "stage1_cnt = train_label.join(df_graph, on = 'nodeId').group_by('edgeId', 'target').agg(pl.sum('score'))\n",
    "stage1_output = stage1_cnt.join(edge_degree, on='edgeId').select('edgeId', 'target', (pl.col('score') / pl.col('edge_degree')).alias('edge_score'))\n",
    "stage2_cnt = stage1_output.join(df_graph, on='edgeId').group_by('nodeId', 'target').agg(pl.sum('edge_score'))\n",
    "stage2_output = node_degree.join(stage2_cnt, on='nodeId').select('nodeId', 'target', (pl.col('edge_score') / pl.col('node_degree')).alias('node_score'))\n",
    "predictions = stage2_output.select('nodeId', 'node_score', pl.col('node_score').rank(descending=True, method='random').over('nodeId').alias('rank'), 'target')\n",
    "result = label_df.join(predictions.filter(pl.col('rank') == 1), on='nodeId', how='left')\n",
    "accuracy = result.select('split', (pl.col('target') == pl.col('label')).cast(pl.Float32).alias('hit')).fill_null(0) \\\n",
    "                 .group_by('split').agg(pl.mean('hit').alias(\"accuracy\"))\n",
    "display(accuracy)"
   ]
  },
  {
   "cell_type": "markdown",
   "id": "24a06052-cc30-406d-82b2-325783d6f344",
   "metadata": {},
   "source": [
    "Let us break it down to individual steps\n",
    "\n",
    "In the first step, we isolate the training nodes and assign them a score of 1 to ensure avoiding leak of validation/test labels.\n",
    "The score is the value that will be propagated through the hypergraph in the CSP algorithm. In fact, there will be several\n",
    "CSP run in parallel for each target label.\n"
   ]
  },
  {
   "cell_type": "code",
   "execution_count": 10,
   "id": "2d17afab-b91f-48a4-9e19-21ef8ec2951e",
   "metadata": {},
   "outputs": [
    {
     "data": {
      "text/html": [
       "<div><style>\n",
       ".dataframe > thead > tr,\n",
       ".dataframe > tbody > tr {\n",
       "  text-align: right;\n",
       "  white-space: pre-wrap;\n",
       "}\n",
       "</style>\n",
       "<small>shape: (2, 3)</small><table border=\"1\" class=\"dataframe\"><thead><tr><th>nodeId</th><th>score</th><th>target</th></tr><tr><td>u32</td><td>f32</td><td>f32</td></tr></thead><tbody><tr><td>0</td><td>1.0</td><td>0.0</td></tr><tr><td>1</td><td>1.0</td><td>1.0</td></tr></tbody></table></div>"
      ],
      "text/plain": [
       "shape: (2, 3)\n",
       "┌────────┬───────┬────────┐\n",
       "│ nodeId ┆ score ┆ target │\n",
       "│ ---    ┆ ---   ┆ ---    │\n",
       "│ u32    ┆ f32   ┆ f32    │\n",
       "╞════════╪═══════╪════════╡\n",
       "│ 0      ┆ 1.0   ┆ 0.0    │\n",
       "│ 1      ┆ 1.0   ┆ 1.0    │\n",
       "└────────┴───────┴────────┘"
      ]
     },
     "metadata": {},
     "output_type": "display_data"
    }
   ],
   "source": [
    "train_label = label_df.filter(pl.col(\"split\") == \"train\").select(\n",
    "    \"nodeId\", pl.lit(1).cast(pl.Float32).alias(\"score\"), pl.col(\"label\").alias(\"target\")\n",
    ")\n",
    "display(train_label)"
   ]
  },
  {
   "cell_type": "markdown",
   "id": "7bc26666-6ac6-4956-ae6f-9751d678f685",
   "metadata": {},
   "source": [
    "In contrast with the SQL query in Appendix of the submission, we aggregate the sum of all positive scores. The advantage is that we avoid propagation of zero labels having no information that saves a lot of compuational resources. "
   ]
  },
  {
   "cell_type": "code",
   "execution_count": 11,
   "id": "bcc1954e-4036-4367-bc63-9cf1b26670e2",
   "metadata": {},
   "outputs": [
    {
     "data": {
      "text/html": [
       "<div><style>\n",
       ".dataframe > thead > tr,\n",
       ".dataframe > tbody > tr {\n",
       "  text-align: right;\n",
       "  white-space: pre-wrap;\n",
       "}\n",
       "</style>\n",
       "<small>shape: (4, 3)</small><table border=\"1\" class=\"dataframe\"><thead><tr><th>edgeId</th><th>target</th><th>score</th></tr><tr><td>u32</td><td>f32</td><td>f32</td></tr></thead><tbody><tr><td>1</td><td>1.0</td><td>1.0</td></tr><tr><td>2</td><td>0.0</td><td>1.0</td></tr><tr><td>0</td><td>1.0</td><td>1.0</td></tr><tr><td>0</td><td>0.0</td><td>1.0</td></tr></tbody></table></div>"
      ],
      "text/plain": [
       "shape: (4, 3)\n",
       "┌────────┬────────┬───────┐\n",
       "│ edgeId ┆ target ┆ score │\n",
       "│ ---    ┆ ---    ┆ ---   │\n",
       "│ u32    ┆ f32    ┆ f32   │\n",
       "╞════════╪════════╪═══════╡\n",
       "│ 1      ┆ 1.0    ┆ 1.0   │\n",
       "│ 2      ┆ 0.0    ┆ 1.0   │\n",
       "│ 0      ┆ 1.0    ┆ 1.0   │\n",
       "│ 0      ┆ 0.0    ┆ 1.0   │\n",
       "└────────┴────────┴───────┘"
      ]
     },
     "metadata": {},
     "output_type": "display_data"
    }
   ],
   "source": [
    "stage1_cnt = train_label.join(df_graph, on = 'nodeId').group_by('edgeId', 'target').agg(pl.sum('score'))\n",
    "display(stage1_cnt)"
   ]
  },
  {
   "cell_type": "markdown",
   "id": "9bc32000-ef1d-4ca3-86f4-769c20197f60",
   "metadata": {},
   "source": [
    "As stated before, the average is calculated by fraction of the summed score to the node degree. Therefore no information is needed from other nodes here."
   ]
  },
  {
   "cell_type": "code",
   "execution_count": 14,
   "id": "90838e13-0963-4dc0-a99e-b83fabb4c9a0",
   "metadata": {},
   "outputs": [
    {
     "data": {
      "text/html": [
       "<div><style>\n",
       ".dataframe > thead > tr,\n",
       ".dataframe > tbody > tr {\n",
       "  text-align: right;\n",
       "  white-space: pre-wrap;\n",
       "}\n",
       "</style>\n",
       "<small>shape: (4, 3)</small><table border=\"1\" class=\"dataframe\"><thead><tr><th>edgeId</th><th>target</th><th>edge_score</th></tr><tr><td>u32</td><td>f32</td><td>f64</td></tr></thead><tbody><tr><td>2</td><td>0.0</td><td>0.5</td></tr><tr><td>0</td><td>1.0</td><td>0.5</td></tr><tr><td>0</td><td>0.0</td><td>0.5</td></tr><tr><td>1</td><td>1.0</td><td>0.5</td></tr></tbody></table></div>"
      ],
      "text/plain": [
       "shape: (4, 3)\n",
       "┌────────┬────────┬────────────┐\n",
       "│ edgeId ┆ target ┆ edge_score │\n",
       "│ ---    ┆ ---    ┆ ---        │\n",
       "│ u32    ┆ f32    ┆ f64        │\n",
       "╞════════╪════════╪════════════╡\n",
       "│ 2      ┆ 0.0    ┆ 0.5        │\n",
       "│ 0      ┆ 1.0    ┆ 0.5        │\n",
       "│ 0      ┆ 0.0    ┆ 0.5        │\n",
       "│ 1      ┆ 1.0    ┆ 0.5        │\n",
       "└────────┴────────┴────────────┘"
      ]
     },
     "metadata": {},
     "output_type": "display_data"
    }
   ],
   "source": [
    "stage1_output = stage1_cnt.join(edge_degree, on='edgeId').select('edgeId', 'target', (pl.col('score') / pl.col('edge_degree')).alias('edge_score'))\n",
    "display(stage1_output)"
   ]
  },
  {
   "cell_type": "markdown",
   "id": "5e89cf1a-80c2-4581-9e98-e757068a70fe",
   "metadata": {},
   "source": [
    "Similar procedure is applied in nodes, where we again sum the score from the neighboring nodes according to the CSP definition."
   ]
  },
  {
   "cell_type": "code",
   "execution_count": 16,
   "id": "3a79645f-c571-49bf-bcd0-ba3ed056b6fa",
   "metadata": {},
   "outputs": [
    {
     "data": {
      "text/html": [
       "<div><style>\n",
       ".dataframe > thead > tr,\n",
       ".dataframe > tbody > tr {\n",
       "  text-align: right;\n",
       "  white-space: pre-wrap;\n",
       "}\n",
       "</style>\n",
       "<small>shape: (6, 3)</small><table border=\"1\" class=\"dataframe\"><thead><tr><th>nodeId</th><th>target</th><th>edge_score</th></tr><tr><td>u32</td><td>f32</td><td>f64</td></tr></thead><tbody><tr><td>0</td><td>0.0</td><td>1.0</td></tr><tr><td>3</td><td>0.0</td><td>0.5</td></tr><tr><td>2</td><td>1.0</td><td>0.5</td></tr><tr><td>1</td><td>0.0</td><td>0.5</td></tr><tr><td>1</td><td>1.0</td><td>1.0</td></tr><tr><td>0</td><td>1.0</td><td>0.5</td></tr></tbody></table></div>"
      ],
      "text/plain": [
       "shape: (6, 3)\n",
       "┌────────┬────────┬────────────┐\n",
       "│ nodeId ┆ target ┆ edge_score │\n",
       "│ ---    ┆ ---    ┆ ---        │\n",
       "│ u32    ┆ f32    ┆ f64        │\n",
       "╞════════╪════════╪════════════╡\n",
       "│ 0      ┆ 0.0    ┆ 1.0        │\n",
       "│ 3      ┆ 0.0    ┆ 0.5        │\n",
       "│ 2      ┆ 1.0    ┆ 0.5        │\n",
       "│ 1      ┆ 0.0    ┆ 0.5        │\n",
       "│ 1      ┆ 1.0    ┆ 1.0        │\n",
       "│ 0      ┆ 1.0    ┆ 0.5        │\n",
       "└────────┴────────┴────────────┘"
      ]
     },
     "metadata": {},
     "output_type": "display_data"
    }
   ],
   "source": [
    "stage2_cnt = stage1_output.join(df_graph, on='edgeId').group_by('nodeId', 'target').agg(pl.sum('edge_score'))\n",
    "display(stage2_cnt)"
   ]
  },
  {
   "cell_type": "markdown",
   "id": "1c0ebb30-55f5-4dc3-b76d-d624e584631d",
   "metadata": {},
   "source": [
    "Similarly as in edges, the node degree is used to calculate the ratio"
   ]
  },
  {
   "cell_type": "code",
   "execution_count": 17,
   "id": "2d7dbc2f-9b5c-429f-b6e5-a650ddbdc6ce",
   "metadata": {},
   "outputs": [
    {
     "data": {
      "text/html": [
       "<div><style>\n",
       ".dataframe > thead > tr,\n",
       ".dataframe > tbody > tr {\n",
       "  text-align: right;\n",
       "  white-space: pre-wrap;\n",
       "}\n",
       "</style>\n",
       "<small>shape: (6, 3)</small><table border=\"1\" class=\"dataframe\"><thead><tr><th>nodeId</th><th>target</th><th>node_score</th></tr><tr><td>u32</td><td>f32</td><td>f64</td></tr></thead><tbody><tr><td>0</td><td>0.0</td><td>0.5</td></tr><tr><td>3</td><td>0.0</td><td>0.25</td></tr><tr><td>2</td><td>1.0</td><td>0.25</td></tr><tr><td>1</td><td>0.0</td><td>0.25</td></tr><tr><td>1</td><td>1.0</td><td>0.5</td></tr><tr><td>0</td><td>1.0</td><td>0.25</td></tr></tbody></table></div>"
      ],
      "text/plain": [
       "shape: (6, 3)\n",
       "┌────────┬────────┬────────────┐\n",
       "│ nodeId ┆ target ┆ node_score │\n",
       "│ ---    ┆ ---    ┆ ---        │\n",
       "│ u32    ┆ f32    ┆ f64        │\n",
       "╞════════╪════════╪════════════╡\n",
       "│ 0      ┆ 0.0    ┆ 0.5        │\n",
       "│ 3      ┆ 0.0    ┆ 0.25       │\n",
       "│ 2      ┆ 1.0    ┆ 0.25       │\n",
       "│ 1      ┆ 0.0    ┆ 0.25       │\n",
       "│ 1      ┆ 1.0    ┆ 0.5        │\n",
       "│ 0      ┆ 1.0    ┆ 0.25       │\n",
       "└────────┴────────┴────────────┘"
      ]
     },
     "metadata": {},
     "output_type": "display_data"
    }
   ],
   "source": [
    "stage2_output = node_degree.join(stage2_cnt, on='nodeId').select('nodeId', 'target', (pl.col('edge_score') / pl.col('node_degree')).alias('node_score'))\n",
    "display(stage2_output)"
   ]
  },
  {
   "cell_type": "markdown",
   "id": "bcb1438a-b2d0-47c6-a709-94c01eb865f6",
   "metadata": {},
   "source": [
    "For each node, labels are ranked by score. Nodes without propagated signals remain unranked."
   ]
  },
  {
   "cell_type": "code",
   "execution_count": 18,
   "id": "53dcaedd-4260-4250-889b-d11841511986",
   "metadata": {},
   "outputs": [
    {
     "data": {
      "text/html": [
       "<div><style>\n",
       ".dataframe > thead > tr,\n",
       ".dataframe > tbody > tr {\n",
       "  text-align: right;\n",
       "  white-space: pre-wrap;\n",
       "}\n",
       "</style>\n",
       "<small>shape: (6, 4)</small><table border=\"1\" class=\"dataframe\"><thead><tr><th>nodeId</th><th>node_score</th><th>rank</th><th>target</th></tr><tr><td>u32</td><td>f64</td><td>u32</td><td>f32</td></tr></thead><tbody><tr><td>0</td><td>0.5</td><td>1</td><td>0.0</td></tr><tr><td>3</td><td>0.25</td><td>1</td><td>0.0</td></tr><tr><td>2</td><td>0.25</td><td>1</td><td>1.0</td></tr><tr><td>1</td><td>0.25</td><td>2</td><td>0.0</td></tr><tr><td>1</td><td>0.5</td><td>1</td><td>1.0</td></tr><tr><td>0</td><td>0.25</td><td>2</td><td>1.0</td></tr></tbody></table></div>"
      ],
      "text/plain": [
       "shape: (6, 4)\n",
       "┌────────┬────────────┬──────┬────────┐\n",
       "│ nodeId ┆ node_score ┆ rank ┆ target │\n",
       "│ ---    ┆ ---        ┆ ---  ┆ ---    │\n",
       "│ u32    ┆ f64        ┆ u32  ┆ f32    │\n",
       "╞════════╪════════════╪══════╪════════╡\n",
       "│ 0      ┆ 0.5        ┆ 1    ┆ 0.0    │\n",
       "│ 3      ┆ 0.25       ┆ 1    ┆ 0.0    │\n",
       "│ 2      ┆ 0.25       ┆ 1    ┆ 1.0    │\n",
       "│ 1      ┆ 0.25       ┆ 2    ┆ 0.0    │\n",
       "│ 1      ┆ 0.5        ┆ 1    ┆ 1.0    │\n",
       "│ 0      ┆ 0.25       ┆ 2    ┆ 1.0    │\n",
       "└────────┴────────────┴──────┴────────┘"
      ]
     },
     "metadata": {},
     "output_type": "display_data"
    }
   ],
   "source": [
    "predictions = stage2_output.select('nodeId', 'node_score', pl.col('node_score').rank(descending=True, method='random').over('nodeId').alias('rank'), 'target')\n",
    "display(predictions)"
   ]
  },
  {
   "cell_type": "markdown",
   "id": "d45436d4-aafd-484a-a62e-f62c02550d60",
   "metadata": {},
   "source": [
    "We now join the table with predictions with the labels. The predicted class is the class with rank 1 of the predicted score. Note that ties are broken randomly."
   ]
  },
  {
   "cell_type": "code",
   "execution_count": 20,
   "id": "484591a0-a0ac-4aab-962d-d9d8669b080a",
   "metadata": {},
   "outputs": [
    {
     "data": {
      "text/html": [
       "<div><style>\n",
       ".dataframe > thead > tr,\n",
       ".dataframe > tbody > tr {\n",
       "  text-align: right;\n",
       "  white-space: pre-wrap;\n",
       "}\n",
       "</style>\n",
       "<small>shape: (5, 6)</small><table border=\"1\" class=\"dataframe\"><thead><tr><th>nodeId</th><th>label</th><th>split</th><th>node_score</th><th>rank</th><th>target</th></tr><tr><td>u32</td><td>f32</td><td>str</td><td>f64</td><td>u32</td><td>f32</td></tr></thead><tbody><tr><td>0</td><td>0.0</td><td>&quot;train&quot;</td><td>0.5</td><td>1</td><td>0.0</td></tr><tr><td>1</td><td>1.0</td><td>&quot;train&quot;</td><td>0.5</td><td>1</td><td>1.0</td></tr><tr><td>2</td><td>0.0</td><td>&quot;test&quot;</td><td>0.25</td><td>1</td><td>1.0</td></tr><tr><td>3</td><td>0.0</td><td>&quot;test&quot;</td><td>0.25</td><td>1</td><td>0.0</td></tr><tr><td>4</td><td>1.0</td><td>&quot;test&quot;</td><td>null</td><td>null</td><td>null</td></tr></tbody></table></div>"
      ],
      "text/plain": [
       "shape: (5, 6)\n",
       "┌────────┬───────┬───────┬────────────┬──────┬────────┐\n",
       "│ nodeId ┆ label ┆ split ┆ node_score ┆ rank ┆ target │\n",
       "│ ---    ┆ ---   ┆ ---   ┆ ---        ┆ ---  ┆ ---    │\n",
       "│ u32    ┆ f32   ┆ str   ┆ f64        ┆ u32  ┆ f32    │\n",
       "╞════════╪═══════╪═══════╪════════════╪══════╪════════╡\n",
       "│ 0      ┆ 0.0   ┆ train ┆ 0.5        ┆ 1    ┆ 0.0    │\n",
       "│ 1      ┆ 1.0   ┆ train ┆ 0.5        ┆ 1    ┆ 1.0    │\n",
       "│ 2      ┆ 0.0   ┆ test  ┆ 0.25       ┆ 1    ┆ 1.0    │\n",
       "│ 3      ┆ 0.0   ┆ test  ┆ 0.25       ┆ 1    ┆ 0.0    │\n",
       "│ 4      ┆ 1.0   ┆ test  ┆ null       ┆ null ┆ null   │\n",
       "└────────┴───────┴───────┴────────────┴──────┴────────┘"
      ]
     },
     "metadata": {},
     "output_type": "display_data"
    }
   ],
   "source": [
    "result = label_df.join(predictions.filter(pl.col('rank') == 1), on='nodeId', how='left')\n",
    "display(result)"
   ]
  },
  {
   "cell_type": "markdown",
   "id": "11e534ac-9434-4061-95c6-dc66522f7ab0",
   "metadata": {},
   "source": [
    "Accuracy is computed as the ratio of correct predictions (`hit`) to the total size of each split.  "
   ]
  },
  {
   "cell_type": "code",
   "execution_count": null,
   "id": "033d23ef-00f9-4f1f-a934-1cc7a22230ae",
   "metadata": {},
   "outputs": [],
   "source": [
    "accuracy = result.select('split', (pl.col('target') == pl.col('label')).cast(pl.Float32).alias('hit')).fill_null(0) \\\n",
    "                 .group_by('split').agg(pl.mean('hit').alias(\"accuracy\"))\n",
    "display(accuracy)"
   ]
  },
  {
   "cell_type": "markdown",
   "id": "2f845e28-c602-4bd3-807e-755e69f7d133",
   "metadata": {},
   "source": [
    "## Notes  \n",
    "\n",
    "- The method described calculates CSP for all 171 labels simultaneously, which may not fit into standard laptop memory. To overcome this, CSP computations can be batched.  \n",
    "- Alternatively, the dataset can be directly loaded and processed without batching if memory allows.  \n"
   ]
  },
  {
   "cell_type": "code",
   "execution_count": null,
   "id": "76f80023-ad72-4c56-8d6f-f3b8782aaed1",
   "metadata": {},
   "outputs": [],
   "source": [
    "\n",
    "\n",
    "df_graph = pl.scan_parquet(os.path.join(DATASET_PATH, \"papers100M-bin/processed/graph.parquet\"))\n",
    "label_df = pl.read_parquet(os.path.join(DATASET_PATH, \"papers100M-bin/processed/labels.parquet\"))\n",
    "edge_degree = pl.read_parquet(os.path.join(DATASET_PATH, \"papers100M-bin/processed/edge_hist.parquet\"))\n",
    "node_degree = pl.read_parquet(os.path.join(DATASET_PATH, \"papers100M-bin/processed/node_hist.parquet\"))\n",
    "\n"
   ]
  },
  {
   "cell_type": "markdown",
   "id": "fa0d6cbc-6747-4cb8-a05b-ce8ec46e431d",
   "metadata": {},
   "source": [
    "## Scaling with Spark  \n",
    "\n",
    "For large-scale computations, Spark offers a more efficient solution by enabling distributed processing. The SQL implementation of CSP allows scaling across a computational cluster.  With df_graph and label_df tables as before, the SQL query corresponding to the script above can look like"
   ]
  },
  {
   "cell_type": "markdown",
   "id": "f7e42c4b-db3a-432e-962d-6e5a2c41fee2",
   "metadata": {},
   "source": [
    "``` sql\n",
    "with edge_degree as (\n",
    "  select edgeId, count(*) as edge_degree from df_graph\n",
    "  group by edgeId\n",
    "),\n",
    "node_degree as (\n",
    "  select nodeId, count(*) as node_degree from df_graph\n",
    "  group by nodeId\n",
    "),\n",
    "train_label as (\n",
    "  select distinct nodeId, label from label_df\n",
    "  where split = 'train' \n",
    "),\n",
    "stage1_cnt as (\n",
    "select graph.edgeId, train_label.label as target, count(*) as cnt \n",
    "from train_label inner join df_graph as graph on graph.nodeId = train_label.nodeId\n",
    "group by graph.edgeId, train_label.label\n",
    "),\n",
    "stage1_full as (\n",
    "  select stage1_cnt.edgeId, stage1_cnt.target, stage1_cnt.cnt / edge_degree.edge_degree as edge_score from stage1_cnt inner join edge_degree on stage1_cnt.edgeId = edge_degree.edgeId\n",
    "),\n",
    "node_cnt as (\n",
    "  select sum(stage1_full.edge_score) as node_score_sum, stage1_full.target, graph.nodeId from stage1_full inner join df_graph as graph on stage1_full.edgeId = graph.edgeId\n",
    "  group by graph.nodeId, stage1_full.target\n",
    "),\n",
    "csp_output as (\n",
    "  select node_cnt.nodeId,node_cnt.target, node_cnt.node_score_sum / node_degree.node_degree as node_score from node_cnt inner join node_degree on node_cnt.nodeId = node_degree.nodeId\n",
    "),\n",
    "sorted_csp_output as (\n",
    "select nodeId, target, node_score, row_number() OVER (PARTITION BY nodeId ORDER BY node_score desc) as rank from csp_output\n",
    ")\n",
    "select all_labels.split, mean(if(isnull(sorted_csp_output.target), 0, float(all_labels.label == sorted_csp_output.target))) as accuracy, count(distinct all_labels.nodeId) as num_nodes from label_restriction as all_labels left join sorted_csp_output on sorted_csp_output.nodeId = all_labels.nodeId\n",
    "where IsNull(sorted_csp_output.rank) or sorted_csp_output.rank = 1\n",
    "group by all_labels.split\n",
    "```"
   ]
  }
 ],
 "metadata": {
  "kernelspec": {
   "display_name": "Python 3 (ipykernel)",
   "language": "python",
   "name": "python3"
  },
  "language_info": {
   "codemirror_mode": {
    "name": "ipython",
    "version": 3
   },
   "file_extension": ".py",
   "mimetype": "text/x-python",
   "name": "python",
   "nbconvert_exporter": "python",
   "pygments_lexer": "ipython3",
   "version": "3.12.4"
  }
 },
 "nbformat": 4,
 "nbformat_minor": 5
}
