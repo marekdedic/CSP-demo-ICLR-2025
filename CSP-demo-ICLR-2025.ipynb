{
 "cells": [
  {
   "cell_type": "markdown",
   "id": "88728163-6824-410b-9395-f939dbf40aa9",
   "metadata": {},
   "source": [
    "# Experiments on an example publicly available dataset"
   ]
  },
  {
   "cell_type": "markdown",
   "id": "9ef8024b-27c4-485f-8258-34cd99a67c1f",
   "metadata": {},
   "source": [
    "*Disclaimer*: This repository is intended as a demo to showcase the method and its use, it is not a complete package and/or a full replication of the experiments in the paper."
   ]
  },
  {
   "cell_type": "code",
   "execution_count": 1,
   "id": "ade0191d-61a9-4d0b-97ba-e7437ec4bcb7",
   "metadata": {},
   "outputs": [],
   "source": [
    "import polars as pl\n",
    "\n",
    "from load_datasets import load_dataset\n",
    "from csp_lib import csp_layer, csp_prepare_data"
   ]
  },
  {
   "cell_type": "markdown",
   "id": "f41aa2af-a27f-4759-a692-956d2dee8cd9",
   "metadata": {},
   "source": [
    "First, we load the dataset, which in this case is the cocitation version of the Cora dataset. See the `load_dataset.py` file for a list of implemented datasets with links to download them. The `Cora-CC` dataset from https://github.com/jianhao2016/AllSet is included in this repository as a starter."
   ]
  },
  {
   "cell_type": "code",
   "execution_count": 2,
   "id": "5521ad5e-ba47-4d15-b97d-95cc5688b5fa",
   "metadata": {},
   "outputs": [
    {
     "data": {
      "text/html": [
       "<div><style>\n",
       ".dataframe > thead > tr,\n",
       ".dataframe > tbody > tr {\n",
       "  text-align: right;\n",
       "  white-space: pre-wrap;\n",
       "}\n",
       "</style>\n",
       "<small>shape: (2_708, 9)</small><table border=\"1\" class=\"dataframe\"><thead><tr><th>nodeId</th><th>label</th><th>y_0</th><th>y_1</th><th>y_2</th><th>y_3</th><th>y_4</th><th>y_5</th><th>y_6</th></tr><tr><td>i64</td><td>u32</td><td>u32</td><td>u32</td><td>u32</td><td>u32</td><td>u32</td><td>u32</td><td>u32</td></tr></thead><tbody><tr><td>0</td><td>0</td><td>1</td><td>0</td><td>0</td><td>0</td><td>0</td><td>0</td><td>0</td></tr><tr><td>1</td><td>1</td><td>0</td><td>1</td><td>0</td><td>0</td><td>0</td><td>0</td><td>0</td></tr><tr><td>2</td><td>2</td><td>0</td><td>0</td><td>1</td><td>0</td><td>0</td><td>0</td><td>0</td></tr><tr><td>3</td><td>2</td><td>0</td><td>0</td><td>1</td><td>0</td><td>0</td><td>0</td><td>0</td></tr><tr><td>4</td><td>3</td><td>0</td><td>0</td><td>0</td><td>1</td><td>0</td><td>0</td><td>0</td></tr><tr><td>&hellip;</td><td>&hellip;</td><td>&hellip;</td><td>&hellip;</td><td>&hellip;</td><td>&hellip;</td><td>&hellip;</td><td>&hellip;</td><td>&hellip;</td></tr><tr><td>2703</td><td>5</td><td>0</td><td>0</td><td>0</td><td>0</td><td>0</td><td>1</td><td>0</td></tr><tr><td>2704</td><td>5</td><td>0</td><td>0</td><td>0</td><td>0</td><td>0</td><td>1</td><td>0</td></tr><tr><td>2705</td><td>5</td><td>0</td><td>0</td><td>0</td><td>0</td><td>0</td><td>1</td><td>0</td></tr><tr><td>2706</td><td>6</td><td>0</td><td>0</td><td>0</td><td>0</td><td>0</td><td>0</td><td>1</td></tr><tr><td>2707</td><td>0</td><td>1</td><td>0</td><td>0</td><td>0</td><td>0</td><td>0</td><td>0</td></tr></tbody></table></div>"
      ],
      "text/plain": [
       "shape: (2_708, 9)\n",
       "┌────────┬───────┬─────┬─────┬───┬─────┬─────┬─────┬─────┐\n",
       "│ nodeId ┆ label ┆ y_0 ┆ y_1 ┆ … ┆ y_3 ┆ y_4 ┆ y_5 ┆ y_6 │\n",
       "│ ---    ┆ ---   ┆ --- ┆ --- ┆   ┆ --- ┆ --- ┆ --- ┆ --- │\n",
       "│ i64    ┆ u32   ┆ u32 ┆ u32 ┆   ┆ u32 ┆ u32 ┆ u32 ┆ u32 │\n",
       "╞════════╪═══════╪═════╪═════╪═══╪═════╪═════╪═════╪═════╡\n",
       "│ 0      ┆ 0     ┆ 1   ┆ 0   ┆ … ┆ 0   ┆ 0   ┆ 0   ┆ 0   │\n",
       "│ 1      ┆ 1     ┆ 0   ┆ 1   ┆ … ┆ 0   ┆ 0   ┆ 0   ┆ 0   │\n",
       "│ 2      ┆ 2     ┆ 0   ┆ 0   ┆ … ┆ 0   ┆ 0   ┆ 0   ┆ 0   │\n",
       "│ 3      ┆ 2     ┆ 0   ┆ 0   ┆ … ┆ 0   ┆ 0   ┆ 0   ┆ 0   │\n",
       "│ 4      ┆ 3     ┆ 0   ┆ 0   ┆ … ┆ 1   ┆ 0   ┆ 0   ┆ 0   │\n",
       "│ …      ┆ …     ┆ …   ┆ …   ┆ … ┆ …   ┆ …   ┆ …   ┆ …   │\n",
       "│ 2703   ┆ 5     ┆ 0   ┆ 0   ┆ … ┆ 0   ┆ 0   ┆ 1   ┆ 0   │\n",
       "│ 2704   ┆ 5     ┆ 0   ┆ 0   ┆ … ┆ 0   ┆ 0   ┆ 1   ┆ 0   │\n",
       "│ 2705   ┆ 5     ┆ 0   ┆ 0   ┆ … ┆ 0   ┆ 0   ┆ 1   ┆ 0   │\n",
       "│ 2706   ┆ 6     ┆ 0   ┆ 0   ┆ … ┆ 0   ┆ 0   ┆ 0   ┆ 1   │\n",
       "│ 2707   ┆ 0     ┆ 1   ┆ 0   ┆ … ┆ 0   ┆ 0   ┆ 0   ┆ 0   │\n",
       "└────────┴───────┴─────┴─────┴───┴─────┴─────┴─────┴─────┘"
      ]
     },
     "execution_count": 2,
     "metadata": {},
     "output_type": "execute_result"
    }
   ],
   "source": [
    "nodes, edges = load_dataset(name = \"Cora-CC\", with_features = False)\n",
    "nodes"
   ]
  },
  {
   "cell_type": "code",
   "execution_count": 3,
   "id": "587fadb9-a34e-4ec4-a917-1ae08c92a995",
   "metadata": {},
   "outputs": [
    {
     "data": {
      "text/html": [
       "<div><style>\n",
       ".dataframe > thead > tr,\n",
       ".dataframe > tbody > tr {\n",
       "  text-align: right;\n",
       "  white-space: pre-wrap;\n",
       "}\n",
       "</style>\n",
       "<small>shape: (4_786, 2)</small><table border=\"1\" class=\"dataframe\"><thead><tr><th>nodeId</th><th>edgeId</th></tr><tr><td>i64</td><td>i64</td></tr></thead><tbody><tr><td>538</td><td>0</td></tr><tr><td>163</td><td>0</td></tr><tr><td>219</td><td>0</td></tr><tr><td>1114</td><td>1</td></tr><tr><td>163</td><td>1</td></tr><tr><td>&hellip;</td><td>&hellip;</td></tr><tr><td>1885</td><td>1577</td></tr><tr><td>1886</td><td>1577</td></tr><tr><td>1884</td><td>1578</td></tr><tr><td>1885</td><td>1578</td></tr><tr><td>1886</td><td>1578</td></tr></tbody></table></div>"
      ],
      "text/plain": [
       "shape: (4_786, 2)\n",
       "┌────────┬────────┐\n",
       "│ nodeId ┆ edgeId │\n",
       "│ ---    ┆ ---    │\n",
       "│ i64    ┆ i64    │\n",
       "╞════════╪════════╡\n",
       "│ 538    ┆ 0      │\n",
       "│ 163    ┆ 0      │\n",
       "│ 219    ┆ 0      │\n",
       "│ 1114   ┆ 1      │\n",
       "│ 163    ┆ 1      │\n",
       "│ …      ┆ …      │\n",
       "│ 1885   ┆ 1577   │\n",
       "│ 1886   ┆ 1577   │\n",
       "│ 1884   ┆ 1578   │\n",
       "│ 1885   ┆ 1578   │\n",
       "│ 1886   ┆ 1578   │\n",
       "└────────┴────────┘"
      ]
     },
     "execution_count": 3,
     "metadata": {},
     "output_type": "execute_result"
    }
   ],
   "source": [
    "edges"
   ]
  },
  {
   "cell_type": "markdown",
   "id": "4b2d269d-c20d-4910-9d29-fc3623525a3e",
   "metadata": {},
   "source": [
    "In order to apply CSP, we need a binary signal. In this case, we take the first class as positive and all other classes as negative."
   ]
  },
  {
   "cell_type": "code",
   "execution_count": 4,
   "id": "13f10e73-f5b3-440e-988b-427984e2ea0d",
   "metadata": {},
   "outputs": [
    {
     "data": {
      "text/html": [
       "<div><style>\n",
       ".dataframe > thead > tr,\n",
       ".dataframe > tbody > tr {\n",
       "  text-align: right;\n",
       "  white-space: pre-wrap;\n",
       "}\n",
       "</style>\n",
       "<small>shape: (2_708, 2)</small><table border=\"1\" class=\"dataframe\"><thead><tr><th>nodeId</th><th>nodeProperty</th></tr><tr><td>i64</td><td>u32</td></tr></thead><tbody><tr><td>0</td><td>1</td></tr><tr><td>1</td><td>0</td></tr><tr><td>2</td><td>0</td></tr><tr><td>3</td><td>0</td></tr><tr><td>4</td><td>0</td></tr><tr><td>&hellip;</td><td>&hellip;</td></tr><tr><td>2703</td><td>0</td></tr><tr><td>2704</td><td>0</td></tr><tr><td>2705</td><td>0</td></tr><tr><td>2706</td><td>0</td></tr><tr><td>2707</td><td>1</td></tr></tbody></table></div>"
      ],
      "text/plain": [
       "shape: (2_708, 2)\n",
       "┌────────┬──────────────┐\n",
       "│ nodeId ┆ nodeProperty │\n",
       "│ ---    ┆ ---          │\n",
       "│ i64    ┆ u32          │\n",
       "╞════════╪══════════════╡\n",
       "│ 0      ┆ 1            │\n",
       "│ 1      ┆ 0            │\n",
       "│ 2      ┆ 0            │\n",
       "│ 3      ┆ 0            │\n",
       "│ 4      ┆ 0            │\n",
       "│ …      ┆ …            │\n",
       "│ 2703   ┆ 0            │\n",
       "│ 2704   ┆ 0            │\n",
       "│ 2705   ┆ 0            │\n",
       "│ 2706   ┆ 0            │\n",
       "│ 2707   ┆ 1            │\n",
       "└────────┴──────────────┘"
      ]
     },
     "execution_count": 4,
     "metadata": {},
     "output_type": "execute_result"
    }
   ],
   "source": [
    "nodes_l0 = nodes.select(\"nodeId\", pl.col(\"y_0\").alias(\"nodeProperty\"))\n",
    "nodes_l0"
   ]
  },
  {
   "cell_type": "markdown",
   "id": "d0885f2b-1fb3-42c9-a4ee-009361d17a6e",
   "metadata": {},
   "source": [
    "We assign 10% of nodes to the training set."
   ]
  },
  {
   "cell_type": "code",
   "execution_count": 5,
   "id": "65a79b52-b231-483a-b441-cf22b78462c3",
   "metadata": {},
   "outputs": [
    {
     "data": {
      "text/html": [
       "<div><style>\n",
       ".dataframe > thead > tr,\n",
       ".dataframe > tbody > tr {\n",
       "  text-align: right;\n",
       "  white-space: pre-wrap;\n",
       "}\n",
       "</style>\n",
       "<small>shape: (2_708, 3)</small><table border=\"1\" class=\"dataframe\"><thead><tr><th>nodeId</th><th>nodeProperty</th><th>training_set</th></tr><tr><td>i64</td><td>u32</td><td>bool</td></tr></thead><tbody><tr><td>0</td><td>1</td><td>false</td></tr><tr><td>1</td><td>0</td><td>true</td></tr><tr><td>2</td><td>0</td><td>false</td></tr><tr><td>3</td><td>0</td><td>true</td></tr><tr><td>4</td><td>0</td><td>false</td></tr><tr><td>&hellip;</td><td>&hellip;</td><td>&hellip;</td></tr><tr><td>2703</td><td>0</td><td>true</td></tr><tr><td>2704</td><td>0</td><td>false</td></tr><tr><td>2705</td><td>0</td><td>false</td></tr><tr><td>2706</td><td>0</td><td>false</td></tr><tr><td>2707</td><td>1</td><td>false</td></tr></tbody></table></div>"
      ],
      "text/plain": [
       "shape: (2_708, 3)\n",
       "┌────────┬──────────────┬──────────────┐\n",
       "│ nodeId ┆ nodeProperty ┆ training_set │\n",
       "│ ---    ┆ ---          ┆ ---          │\n",
       "│ i64    ┆ u32          ┆ bool         │\n",
       "╞════════╪══════════════╪══════════════╡\n",
       "│ 0      ┆ 1            ┆ false        │\n",
       "│ 1      ┆ 0            ┆ true         │\n",
       "│ 2      ┆ 0            ┆ false        │\n",
       "│ 3      ┆ 0            ┆ true         │\n",
       "│ 4      ┆ 0            ┆ false        │\n",
       "│ …      ┆ …            ┆ …            │\n",
       "│ 2703   ┆ 0            ┆ true         │\n",
       "│ 2704   ┆ 0            ┆ false        │\n",
       "│ 2705   ┆ 0            ┆ false        │\n",
       "│ 2706   ┆ 0            ┆ false        │\n",
       "│ 2707   ┆ 1            ┆ false        │\n",
       "└────────┴──────────────┴──────────────┘"
      ]
     },
     "execution_count": 5,
     "metadata": {},
     "output_type": "execute_result"
    }
   ],
   "source": [
    "nodes_l0 = nodes_l0.with_columns(training_set = (pl.arange(0, pl.len()) < pl.len() / 10).shuffle(seed = 42))\n",
    "nodes_l0"
   ]
  },
  {
   "cell_type": "markdown",
   "id": "ede24ba7-e4eb-4072-a532-038ea6de7a8d",
   "metadata": {},
   "source": [
    "Next, we prepare the data for CSP. We need a DataFrame with each row corresponding to a pair of node and edge, where the given node belongs to the given edge (In total, this gives us $\\Sigma_E = \\sum_{e_j} \\delta \\left( e_j \\right)$ rows). We also need the signal in the `nodeProperty` column, which for now is constant across all rows with the same `nodeId`. The `csp_prepare data` function also masks labels for nodes not in the training set."
   ]
  },
  {
   "cell_type": "code",
   "execution_count": 6,
   "id": "446bd5d1-d50c-454a-b7b0-66411970ee55",
   "metadata": {},
   "outputs": [
    {
     "data": {
      "text/html": [
       "<div><style>\n",
       ".dataframe > thead > tr,\n",
       ".dataframe > tbody > tr {\n",
       "  text-align: right;\n",
       "  white-space: pre-wrap;\n",
       "}\n",
       "</style>\n",
       "<small>shape: (4_786, 4)</small><table border=\"1\" class=\"dataframe\"><thead><tr><th>nodeId</th><th>edgeId</th><th>nodeProperty</th><th>training_set</th></tr><tr><td>i64</td><td>i64</td><td>u32</td><td>bool</td></tr></thead><tbody><tr><td>538</td><td>0</td><td>0</td><td>false</td></tr><tr><td>163</td><td>0</td><td>0</td><td>false</td></tr><tr><td>219</td><td>0</td><td>0</td><td>false</td></tr><tr><td>1114</td><td>1</td><td>0</td><td>false</td></tr><tr><td>163</td><td>1</td><td>0</td><td>false</td></tr><tr><td>&hellip;</td><td>&hellip;</td><td>&hellip;</td><td>&hellip;</td></tr><tr><td>1885</td><td>1577</td><td>0</td><td>false</td></tr><tr><td>1886</td><td>1577</td><td>0</td><td>false</td></tr><tr><td>1884</td><td>1578</td><td>0</td><td>false</td></tr><tr><td>1885</td><td>1578</td><td>0</td><td>false</td></tr><tr><td>1886</td><td>1578</td><td>0</td><td>false</td></tr></tbody></table></div>"
      ],
      "text/plain": [
       "shape: (4_786, 4)\n",
       "┌────────┬────────┬──────────────┬──────────────┐\n",
       "│ nodeId ┆ edgeId ┆ nodeProperty ┆ training_set │\n",
       "│ ---    ┆ ---    ┆ ---          ┆ ---          │\n",
       "│ i64    ┆ i64    ┆ u32          ┆ bool         │\n",
       "╞════════╪════════╪══════════════╪══════════════╡\n",
       "│ 538    ┆ 0      ┆ 0            ┆ false        │\n",
       "│ 163    ┆ 0      ┆ 0            ┆ false        │\n",
       "│ 219    ┆ 0      ┆ 0            ┆ false        │\n",
       "│ 1114   ┆ 1      ┆ 0            ┆ false        │\n",
       "│ 163    ┆ 1      ┆ 0            ┆ false        │\n",
       "│ …      ┆ …      ┆ …            ┆ …            │\n",
       "│ 1885   ┆ 1577   ┆ 0            ┆ false        │\n",
       "│ 1886   ┆ 1577   ┆ 0            ┆ false        │\n",
       "│ 1884   ┆ 1578   ┆ 0            ┆ false        │\n",
       "│ 1885   ┆ 1578   ┆ 0            ┆ false        │\n",
       "│ 1886   ┆ 1578   ┆ 0            ┆ false        │\n",
       "└────────┴────────┴──────────────┴──────────────┘"
      ]
     },
     "execution_count": 6,
     "metadata": {},
     "output_type": "execute_result"
    }
   ],
   "source": [
    "train_df = csp_prepare_data(edges, nodes_l0)\n",
    "train_df"
   ]
  },
  {
   "cell_type": "markdown",
   "id": "0471734d-8d37-4018-90e6-e502934c33fd",
   "metadata": {},
   "source": [
    "Finally, we can apply one layer of CSP by calling the `csp_layer` function. The function takes an optional parameter `alpha_prime` that is described in Section 4.6.2 of the paper and will not be used here."
   ]
  },
  {
   "cell_type": "code",
   "execution_count": 7,
   "id": "82809fe8-0b0b-4bc7-9717-ce323f441efd",
   "metadata": {},
   "outputs": [
    {
     "data": {
      "text/html": [
       "<div><style>\n",
       ".dataframe > thead > tr,\n",
       ".dataframe > tbody > tr {\n",
       "  text-align: right;\n",
       "  white-space: pre-wrap;\n",
       "}\n",
       "</style>\n",
       "<small>shape: (4_786, 4)</small><table border=\"1\" class=\"dataframe\"><thead><tr><th>nodeId</th><th>edgeId</th><th>edgeProperty</th><th>nodeProperty</th></tr><tr><td>i64</td><td>i64</td><td>f64</td><td>f64</td></tr></thead><tbody><tr><td>538</td><td>0</td><td>0.0</td><td>0.0</td></tr><tr><td>163</td><td>0</td><td>0.0</td><td>0.007931</td></tr><tr><td>219</td><td>0</td><td>0.0</td><td>0.02</td></tr><tr><td>1114</td><td>1</td><td>0.0</td><td>0.0</td></tr><tr><td>163</td><td>1</td><td>0.0</td><td>0.007931</td></tr><tr><td>&hellip;</td><td>&hellip;</td><td>&hellip;</td><td>&hellip;</td></tr><tr><td>1885</td><td>1577</td><td>0.0</td><td>0.0</td></tr><tr><td>1886</td><td>1577</td><td>0.0</td><td>0.0</td></tr><tr><td>1884</td><td>1578</td><td>0.0</td><td>0.0</td></tr><tr><td>1885</td><td>1578</td><td>0.0</td><td>0.0</td></tr><tr><td>1886</td><td>1578</td><td>0.0</td><td>0.0</td></tr></tbody></table></div>"
      ],
      "text/plain": [
       "shape: (4_786, 4)\n",
       "┌────────┬────────┬──────────────┬──────────────┐\n",
       "│ nodeId ┆ edgeId ┆ edgeProperty ┆ nodeProperty │\n",
       "│ ---    ┆ ---    ┆ ---          ┆ ---          │\n",
       "│ i64    ┆ i64    ┆ f64          ┆ f64          │\n",
       "╞════════╪════════╪══════════════╪══════════════╡\n",
       "│ 538    ┆ 0      ┆ 0.0          ┆ 0.0          │\n",
       "│ 163    ┆ 0      ┆ 0.0          ┆ 0.007931     │\n",
       "│ 219    ┆ 0      ┆ 0.0          ┆ 0.02         │\n",
       "│ 1114   ┆ 1      ┆ 0.0          ┆ 0.0          │\n",
       "│ 163    ┆ 1      ┆ 0.0          ┆ 0.007931     │\n",
       "│ …      ┆ …      ┆ …            ┆ …            │\n",
       "│ 1885   ┆ 1577   ┆ 0.0          ┆ 0.0          │\n",
       "│ 1886   ┆ 1577   ┆ 0.0          ┆ 0.0          │\n",
       "│ 1884   ┆ 1578   ┆ 0.0          ┆ 0.0          │\n",
       "│ 1885   ┆ 1578   ┆ 0.0          ┆ 0.0          │\n",
       "│ 1886   ┆ 1578   ┆ 0.0          ┆ 0.0          │\n",
       "└────────┴────────┴──────────────┴──────────────┘"
      ]
     },
     "execution_count": 7,
     "metadata": {},
     "output_type": "execute_result"
    }
   ],
   "source": [
    "updated_df = csp_layer(train_df)\n",
    "updated_df"
   ]
  },
  {
   "cell_type": "markdown",
   "id": "5814dda0-cdcb-4dbf-86e2-185d40677d8d",
   "metadata": {},
   "source": [
    "The output of the `csp_layer` fuction is a DataFrame in the same shape as the input DataFrame (making it possible to use multiple layers). In order to get final predictions for each node, we need to aggregate the dataset (`nodeProperty` should be identical for all rows sharing the same node):"
   ]
  },
  {
   "cell_type": "code",
   "execution_count": 8,
   "id": "bf39ef00-eace-45c2-b8fa-67bb5bcb06e0",
   "metadata": {},
   "outputs": [],
   "source": [
    "output_df = updated_df.group_by(\"nodeId\").agg(pl.first(\"nodeProperty\").alias(\"prediction\")) "
   ]
  },
  {
   "cell_type": "markdown",
   "id": "afa78c57-03d0-49ad-95a2-b6a22a5b3ae3",
   "metadata": {},
   "source": [
    "We can sort the nodes by prediction to check how CSP performs in the retrieval setup"
   ]
  },
  {
   "cell_type": "code",
   "execution_count": 9,
   "id": "11aa774d-18a5-4b5f-ad15-1bbb5e689b65",
   "metadata": {},
   "outputs": [
    {
     "data": {
      "text/html": [
       "<div><style>\n",
       ".dataframe > thead > tr,\n",
       ".dataframe > tbody > tr {\n",
       "  text-align: right;\n",
       "  white-space: pre-wrap;\n",
       "}\n",
       "</style>\n",
       "<small>shape: (1_286, 4)</small><table border=\"1\" class=\"dataframe\"><thead><tr><th>nodeId</th><th>prediction</th><th>ground_truth</th><th>training_set</th></tr><tr><td>i64</td><td>f64</td><td>u32</td><td>bool</td></tr></thead><tbody><tr><td>671</td><td>0.5</td><td>0</td><td>false</td></tr><tr><td>1265</td><td>0.5</td><td>1</td><td>false</td></tr><tr><td>1411</td><td>0.5</td><td>1</td><td>false</td></tr><tr><td>1615</td><td>0.5</td><td>1</td><td>false</td></tr><tr><td>1896</td><td>0.5</td><td>1</td><td>false</td></tr><tr><td>&hellip;</td><td>&hellip;</td><td>&hellip;</td><td>&hellip;</td></tr><tr><td>2696</td><td>0.0</td><td>0</td><td>false</td></tr><tr><td>2697</td><td>0.0</td><td>0</td><td>false</td></tr><tr><td>2698</td><td>0.0</td><td>0</td><td>false</td></tr><tr><td>2706</td><td>0.0</td><td>0</td><td>false</td></tr><tr><td>2707</td><td>0.0</td><td>1</td><td>false</td></tr></tbody></table></div>"
      ],
      "text/plain": [
       "shape: (1_286, 4)\n",
       "┌────────┬────────────┬──────────────┬──────────────┐\n",
       "│ nodeId ┆ prediction ┆ ground_truth ┆ training_set │\n",
       "│ ---    ┆ ---        ┆ ---          ┆ ---          │\n",
       "│ i64    ┆ f64        ┆ u32          ┆ bool         │\n",
       "╞════════╪════════════╪══════════════╪══════════════╡\n",
       "│ 671    ┆ 0.5        ┆ 0            ┆ false        │\n",
       "│ 1265   ┆ 0.5        ┆ 1            ┆ false        │\n",
       "│ 1411   ┆ 0.5        ┆ 1            ┆ false        │\n",
       "│ 1615   ┆ 0.5        ┆ 1            ┆ false        │\n",
       "│ 1896   ┆ 0.5        ┆ 1            ┆ false        │\n",
       "│ …      ┆ …          ┆ …            ┆ …            │\n",
       "│ 2696   ┆ 0.0        ┆ 0            ┆ false        │\n",
       "│ 2697   ┆ 0.0        ┆ 0            ┆ false        │\n",
       "│ 2698   ┆ 0.0        ┆ 0            ┆ false        │\n",
       "│ 2706   ┆ 0.0        ┆ 0            ┆ false        │\n",
       "│ 2707   ┆ 0.0        ┆ 1            ┆ false        │\n",
       "└────────┴────────────┴──────────────┴──────────────┘"
      ]
     },
     "execution_count": 9,
     "metadata": {},
     "output_type": "execute_result"
    }
   ],
   "source": [
    "output_df.join(nodes_l0, on = \"nodeId\") \\\n",
    "    .rename({\"nodeProperty\": \"ground_truth\"}) \\\n",
    "    .filter(~pl.col(\"training_set\")) \\\n",
    "    .sort(by = \"prediction\", descending=True)"
   ]
  },
  {
   "cell_type": "markdown",
   "id": "62b607bc-4b32-4cc5-9b4b-cccac165c6c3",
   "metadata": {},
   "source": [
    "In addition, we can simply investigate the prediction for each node. For instance, let us focus on the first node with id 671"
   ]
  },
  {
   "cell_type": "code",
   "execution_count": 10,
   "id": "d1c5d2ec-afaf-46f3-bb7b-988a533a49b3",
   "metadata": {},
   "outputs": [
    {
     "data": {
      "text/html": [
       "<div><style>\n",
       ".dataframe > thead > tr,\n",
       ".dataframe > tbody > tr {\n",
       "  text-align: right;\n",
       "  white-space: pre-wrap;\n",
       "}\n",
       "</style>\n",
       "<small>shape: (1, 2)</small><table border=\"1\" class=\"dataframe\"><thead><tr><th>nodeId</th><th>edgeId</th></tr><tr><td>i64</td><td>i64</td></tr></thead><tbody><tr><td>671</td><td>1195</td></tr></tbody></table></div>"
      ],
      "text/plain": [
       "shape: (1, 2)\n",
       "┌────────┬────────┐\n",
       "│ nodeId ┆ edgeId │\n",
       "│ ---    ┆ ---    │\n",
       "│ i64    ┆ i64    │\n",
       "╞════════╪════════╡\n",
       "│ 671    ┆ 1195   │\n",
       "└────────┴────────┘"
      ]
     },
     "execution_count": 10,
     "metadata": {},
     "output_type": "execute_result"
    }
   ],
   "source": [
    "edges.filter(pl.col(\"nodeId\") == 671)"
   ]
  },
  {
   "cell_type": "markdown",
   "id": "e5a28df5-a452-41a8-9338-6ef3b93a40c0",
   "metadata": {},
   "source": [
    "We can see that it is contained only in the hyperedge with id 1195. Let us ivestigate all nodes that are in this hyperedge:"
   ]
  },
  {
   "cell_type": "code",
   "execution_count": 11,
   "id": "d4dd9467-1678-4102-9cfe-d62c86ed4e7d",
   "metadata": {},
   "outputs": [
    {
     "data": {
      "text/html": [
       "<div><style>\n",
       ".dataframe > thead > tr,\n",
       ".dataframe > tbody > tr {\n",
       "  text-align: right;\n",
       "  white-space: pre-wrap;\n",
       "}\n",
       "</style>\n",
       "<small>shape: (2, 2)</small><table border=\"1\" class=\"dataframe\"><thead><tr><th>nodeId</th><th>edgeId</th></tr><tr><td>i64</td><td>i64</td></tr></thead><tbody><tr><td>1697</td><td>1195</td></tr><tr><td>671</td><td>1195</td></tr></tbody></table></div>"
      ],
      "text/plain": [
       "shape: (2, 2)\n",
       "┌────────┬────────┐\n",
       "│ nodeId ┆ edgeId │\n",
       "│ ---    ┆ ---    │\n",
       "│ i64    ┆ i64    │\n",
       "╞════════╪════════╡\n",
       "│ 1697   ┆ 1195   │\n",
       "│ 671    ┆ 1195   │\n",
       "└────────┴────────┘"
      ]
     },
     "execution_count": 11,
     "metadata": {},
     "output_type": "execute_result"
    }
   ],
   "source": [
    "edges.filter(pl.col(\"edgeId\") == 1195)"
   ]
  },
  {
   "cell_type": "markdown",
   "id": "6ddaf937-b8ae-43f8-8df2-20007e006164",
   "metadata": {},
   "source": [
    "There are just two nodes, the one of interest and the node with id 1697. Checking label of the node with id 1697, we can easily understand where the prediction 0.5 comes from:"
   ]
  },
  {
   "cell_type": "code",
   "execution_count": 12,
   "id": "58461816-4f86-476d-ab5e-14d9144a575c",
   "metadata": {},
   "outputs": [
    {
     "data": {
      "text/html": [
       "<div><style>\n",
       ".dataframe > thead > tr,\n",
       ".dataframe > tbody > tr {\n",
       "  text-align: right;\n",
       "  white-space: pre-wrap;\n",
       "}\n",
       "</style>\n",
       "<small>shape: (1, 3)</small><table border=\"1\" class=\"dataframe\"><thead><tr><th>nodeId</th><th>nodeProperty</th><th>training_set</th></tr><tr><td>i64</td><td>u32</td><td>bool</td></tr></thead><tbody><tr><td>1697</td><td>1</td><td>true</td></tr></tbody></table></div>"
      ],
      "text/plain": [
       "shape: (1, 3)\n",
       "┌────────┬──────────────┬──────────────┐\n",
       "│ nodeId ┆ nodeProperty ┆ training_set │\n",
       "│ ---    ┆ ---          ┆ ---          │\n",
       "│ i64    ┆ u32          ┆ bool         │\n",
       "╞════════╪══════════════╪══════════════╡\n",
       "│ 1697   ┆ 1            ┆ true         │\n",
       "└────────┴──────────────┴──────────────┘"
      ]
     },
     "execution_count": 12,
     "metadata": {},
     "output_type": "execute_result"
    }
   ],
   "source": [
    "nodes_l0.filter(pl.col(\"nodeId\") == 1697)"
   ]
  },
  {
   "cell_type": "markdown",
   "id": "9724fa4a-13f5-41c9-b05f-aee682676bb2",
   "metadata": {},
   "source": [
    "Note that this final DataFrame omits all nodes that were isolated in the original dataset, hence the lower number of rows (See Table 1 in the paper for an overview of dataset properties including the number of isolated nodes)."
   ]
  },
  {
   "cell_type": "markdown",
   "id": "25c67fdf-f40a-4959-afa4-d7681678655e",
   "metadata": {},
   "source": [
    "## A scikit-learn-style interface for CSP and its very basic use"
   ]
  },
  {
   "cell_type": "markdown",
   "id": "dfcddc24-3603-4100-9b21-82323ad2ec67",
   "metadata": {},
   "source": [
    "Apart from the basic interface operating on DataFrames, we also provide a scikit-learn-style interface for a model with functions `fit` and `predict`. This model also allows us to use CSP in the inductive setting, which is described in Section 4.6.3 of the paper."
   ]
  },
  {
   "cell_type": "code",
   "execution_count": 13,
   "id": "f0d52d2a-5404-4371-8236-84e707dfc9db",
   "metadata": {},
   "outputs": [],
   "source": [
    "import numpy as np\n",
    "\n",
    "from csp_lib import SkLearnCSP"
   ]
  },
  {
   "cell_type": "markdown",
   "id": "31afa36a-8441-4124-b335-b3aed3645d16",
   "metadata": {},
   "source": [
    "Let us construct a simple hypergraph with 3 nodes and 3 hyperedges as an incidence matrix $\\boldsymbol{H}$ and a node label vector $\\boldsymbol{y}$:"
   ]
  },
  {
   "cell_type": "code",
   "execution_count": 14,
   "id": "bb86b89f-503f-4104-ad81-0f0ceb6902c8",
   "metadata": {},
   "outputs": [],
   "source": [
    "H = np.array([[1, 0, 0], [1, 1, 0], [0, 1, 1]])\n",
    "y = np.array([1, 0, 0])"
   ]
  },
  {
   "cell_type": "markdown",
   "id": "a65ad025-a191-4c89-9e2a-992dbe91eb79",
   "metadata": {},
   "source": [
    "Next, we create a model with 3 CSP layers and $\\alpha' = 1$ and train it on the previously constructed graph:"
   ]
  },
  {
   "cell_type": "code",
   "execution_count": 15,
   "id": "bc54291a-741f-4e16-8db0-592069a883ef",
   "metadata": {},
   "outputs": [],
   "source": [
    "csp = SkLearnCSP(layers = 3, alpha_prime = 1)\n",
    "csp.fit(H, y)"
   ]
  },
  {
   "cell_type": "markdown",
   "id": "267e90c7-990c-4919-ba04-fdbd88f55ccd",
   "metadata": {},
   "source": [
    "We can print the aggregated edge scores $\\boldsymbol{r}^{(2)}_j$:"
   ]
  },
  {
   "cell_type": "code",
   "execution_count": 16,
   "id": "7043277c-9844-4497-9e16-fb869ef9ca8f",
   "metadata": {},
   "outputs": [
    {
     "data": {
      "text/html": [
       "<div><style>\n",
       ".dataframe > thead > tr,\n",
       ".dataframe > tbody > tr {\n",
       "  text-align: right;\n",
       "  white-space: pre-wrap;\n",
       "}\n",
       "</style>\n",
       "<small>shape: (3, 2)</small><table border=\"1\" class=\"dataframe\"><thead><tr><th>edgeId</th><th>edgeProperty</th></tr><tr><td>i64</td><td>f64</td></tr></thead><tbody><tr><td>1</td><td>0.15625</td></tr><tr><td>2</td><td>0.0625</td></tr><tr><td>0</td><td>0.3125</td></tr></tbody></table></div>"
      ],
      "text/plain": [
       "shape: (3, 2)\n",
       "┌────────┬──────────────┐\n",
       "│ edgeId ┆ edgeProperty │\n",
       "│ ---    ┆ ---          │\n",
       "│ i64    ┆ f64          │\n",
       "╞════════╪══════════════╡\n",
       "│ 1      ┆ 0.15625      │\n",
       "│ 2      ┆ 0.0625       │\n",
       "│ 0      ┆ 0.3125       │\n",
       "└────────┴──────────────┘"
      ]
     },
     "execution_count": 16,
     "metadata": {},
     "output_type": "execute_result"
    }
   ],
   "source": [
    "csp.model"
   ]
  },
  {
   "cell_type": "markdown",
   "id": "7d0cc6c9-a773-4b4c-8102-b30d5e8c1fc5",
   "metadata": {},
   "source": [
    "And we can use the trained model to obtain a prediction for the nodes of the original hypergraph:"
   ]
  },
  {
   "cell_type": "code",
   "execution_count": 17,
   "id": "9ff7b33b-e111-42b8-b954-b070dc0081c8",
   "metadata": {},
   "outputs": [
    {
     "data": {
      "text/plain": [
       "array([0.3125  , 0.234375, 0.109375])"
      ]
     },
     "execution_count": 17,
     "metadata": {},
     "output_type": "execute_result"
    }
   ],
   "source": [
    "csp.predict(H)"
   ]
  },
  {
   "cell_type": "markdown",
   "id": "7c0a485e-505b-4722-84e3-fd4ab9853c32",
   "metadata": {},
   "source": [
    "With this interface, however, we can also apply the model inductively to a hypothetical new node, which is defined by its edge-incidence list (a binary-valued vector with ones in indices of edges the node belongs to):"
   ]
  },
  {
   "cell_type": "code",
   "execution_count": 18,
   "id": "b31f0faf-b898-42ec-8d41-5c491f5fdefa",
   "metadata": {},
   "outputs": [
    {
     "data": {
      "text/plain": [
       "array([0.17708333])"
      ]
     },
     "execution_count": 18,
     "metadata": {},
     "output_type": "execute_result"
    }
   ],
   "source": [
    "csp.predict(np.array([[1, 1, 1]]))"
   ]
  }
 ],
 "metadata": {
  "kernelspec": {
   "display_name": "csp-demo-iclr-2025",
   "language": "python",
   "name": "csp-demo-iclr-2025"
  },
  "language_info": {
   "codemirror_mode": {
    "name": "ipython",
    "version": 3
   },
   "file_extension": ".py",
   "mimetype": "text/x-python",
   "name": "python",
   "nbconvert_exporter": "python",
   "pygments_lexer": "ipython3",
   "version": "3.11.10"
  }
 },
 "nbformat": 4,
 "nbformat_minor": 5
}
